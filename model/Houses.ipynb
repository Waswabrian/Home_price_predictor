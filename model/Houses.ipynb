{
 "cells": [
  {
   "cell_type": "code",
   "execution_count": 5,
   "metadata": {
    "colab": {
     "base_uri": "https://localhost:8080/"
    },
    "id": "-8vQ_PRgiUZi",
    "outputId": "6ebb18f6-90ff-4678-ad97-93848df097ed"
   },
   "outputs": [
    {
     "ename": "ModuleNotFoundError",
     "evalue": "No module named 'pandas'",
     "output_type": "error",
     "traceback": [
      "\u001b[0;31m---------------------------------------------------------------------------\u001b[0m",
      "\u001b[0;31mModuleNotFoundError\u001b[0m                       Traceback (most recent call last)",
      "Cell \u001b[0;32mIn[5], line 3\u001b[0m\n\u001b[1;32m      1\u001b[0m \u001b[38;5;66;03m# !pip install matplotlib\u001b[39;00m\n\u001b[1;32m      2\u001b[0m \u001b[38;5;66;03m#predicting house prices\u001b[39;00m\n\u001b[0;32m----> 3\u001b[0m \u001b[38;5;28;01mimport\u001b[39;00m \u001b[38;5;21;01mpandas\u001b[39;00m \u001b[38;5;28;01mas\u001b[39;00m \u001b[38;5;21;01mpd\u001b[39;00m\n\u001b[1;32m      4\u001b[0m \u001b[38;5;28;01mimport\u001b[39;00m \u001b[38;5;21;01mnumpy\u001b[39;00m \u001b[38;5;28;01mas\u001b[39;00m \u001b[38;5;21;01mnp\u001b[39;00m\n\u001b[1;32m      5\u001b[0m \u001b[38;5;28;01mimport\u001b[39;00m \u001b[38;5;21;01mmatplotlib\u001b[39;00m\u001b[38;5;21;01m.\u001b[39;00m\u001b[38;5;21;01mpyplot\u001b[39;00m  \u001b[38;5;28;01mas\u001b[39;00m \u001b[38;5;21;01mplt\u001b[39;00m\n",
      "\u001b[0;31mModuleNotFoundError\u001b[0m: No module named 'pandas'"
     ]
    }
   ],
   "source": [
    "# !pip install matplotlib\n",
    "#predicting house prices\n",
    "import pandas as pd\n",
    "import numpy as np\n",
    "import matplotlib.pyplot  as plt\n",
    "from sklearn import linear_model\n",
    "import math\n"
   ]
  },
  {
   "cell_type": "code",
   "execution_count": null,
   "metadata": {
    "id": "wdbdm01JJ9G4"
   },
   "outputs": [],
   "source": []
  },
  {
   "cell_type": "code",
   "execution_count": null,
   "metadata": {
    "colab": {
     "base_uri": "https://localhost:8080/",
     "height": 424
    },
    "id": "D-BTxPTmi9F0",
    "outputId": "5f535ffd-5469-4f12-e302-51218e7f9e0a"
   },
   "outputs": [],
   "source": [
    "hse = pd.read_csv(\"bengaluru_house_prices.csv\")\n",
    "hse"
   ]
  },
  {
   "cell_type": "code",
   "execution_count": null,
   "metadata": {
    "colab": {
     "base_uri": "https://localhost:8080/"
    },
    "id": "ji4mlSYs0X8l",
    "outputId": "01f51446-a897-42e3-94a3-82cffe3527b9"
   },
   "outputs": [],
   "source": [
    "print(hse.columns)"
   ]
  },
  {
   "cell_type": "code",
   "execution_count": null,
   "metadata": {
    "colab": {
     "base_uri": "https://localhost:8080/"
    },
    "id": "l4Lc65jj1UHA",
    "outputId": "1e5e9852-877b-4136-9d24-34c25486936c"
   },
   "outputs": [],
   "source": [
    "hse.groupby('area_type')['area_type'].agg('count')"
   ]
  },
  {
   "cell_type": "code",
   "execution_count": null,
   "metadata": {
    "colab": {
     "base_uri": "https://localhost:8080/",
     "height": 424
    },
    "id": "pojU0_EHw5kZ",
    "outputId": "8994d43d-b95a-4fe3-b756-6f400e3acfdf"
   },
   "outputs": [],
   "source": [
    "hse2 = hse.drop(['area_type','society','availability','balcony'], axis=\"columns\")\n",
    "hse2"
   ]
  },
  {
   "cell_type": "code",
   "execution_count": null,
   "metadata": {
    "colab": {
     "base_uri": "https://localhost:8080/"
    },
    "id": "zYjOA9CHjixW",
    "outputId": "17d77f80-2fc7-440f-8406-db71d3bd12ed"
   },
   "outputs": [],
   "source": [
    "hse2.isnull().sum()"
   ]
  },
  {
   "cell_type": "code",
   "execution_count": null,
   "metadata": {
    "colab": {
     "base_uri": "https://localhost:8080/",
     "height": 424
    },
    "id": "6mHK2ay6oKPC",
    "outputId": "d5c6c7d8-2d60-4d11-c01e-fca23de9ef37"
   },
   "outputs": [],
   "source": [
    "hse3 = hse2.dropna()\n",
    "hse3"
   ]
  },
  {
   "cell_type": "code",
   "execution_count": null,
   "metadata": {
    "colab": {
     "base_uri": "https://localhost:8080/"
    },
    "id": "52JQl_Cdnbr9",
    "outputId": "72cbbcc0-5a29-436a-886d-00b503da11b9"
   },
   "outputs": [],
   "source": [
    "hse3.isnull().sum()"
   ]
  },
  {
   "cell_type": "code",
   "execution_count": null,
   "metadata": {
    "colab": {
     "base_uri": "https://localhost:8080/"
    },
    "id": "jQ9L6LcpoLHS",
    "outputId": "8d221091-3e11-46a6-89b8-8f7978c05d01"
   },
   "outputs": [],
   "source": [
    "hse3.shape"
   ]
  },
  {
   "cell_type": "code",
   "execution_count": null,
   "metadata": {
    "colab": {
     "base_uri": "https://localhost:8080/"
    },
    "id": "n7n65eZD4gnS",
    "outputId": "216feb17-7837-4f0f-9738-02982f5763c9"
   },
   "outputs": [],
   "source": [
    "#This gives us unique values in the column\n",
    "hse3['size'].unique()"
   ]
  },
  {
   "cell_type": "code",
   "execution_count": null,
   "metadata": {
    "colab": {
     "base_uri": "https://localhost:8080/"
    },
    "id": "jLJs4zb341d4",
    "outputId": "99e1ebd0-aee2-4ad9-86ab-8566073117f5"
   },
   "outputs": [],
   "source": [
    "#create a column containing HBK only\n",
    "hse3['BHK'] = hse3['size'].apply(lambda x: int(x.split(' ')[0]))"
   ]
  },
  {
   "cell_type": "code",
   "execution_count": null,
   "metadata": {
    "colab": {
     "base_uri": "https://localhost:8080/",
     "height": 206
    },
    "id": "jv-3iLUb5d_f",
    "outputId": "31402e39-662d-437d-a063-c6658f23142a"
   },
   "outputs": [],
   "source": [
    "hse3.head()"
   ]
  },
  {
   "cell_type": "code",
   "execution_count": null,
   "metadata": {
    "colab": {
     "base_uri": "https://localhost:8080/"
    },
    "id": "hiB3hU9F5mK-",
    "outputId": "4d750ec9-8e46-41fc-9de9-046e9f2a0c0a"
   },
   "outputs": [],
   "source": [
    "hse3['BHK'].unique()"
   ]
  },
  {
   "cell_type": "code",
   "execution_count": null,
   "metadata": {
    "colab": {
     "base_uri": "https://localhost:8080/",
     "height": 112
    },
    "id": "GlPJxFOg6EXq",
    "outputId": "818c75cc-b973-4925-b3de-2ad88568dcf3"
   },
   "outputs": [],
   "source": [
    "hse3[hse3['BHK']>20]"
   ]
  },
  {
   "cell_type": "code",
   "execution_count": null,
   "metadata": {
    "colab": {
     "base_uri": "https://localhost:8080/"
    },
    "id": "wDRXNCg78Ded",
    "outputId": "d4ef65c9-948e-425a-fa5b-b52938e6f4dd"
   },
   "outputs": [],
   "source": [
    "hse3['total_sqft'].unique()"
   ]
  },
  {
   "cell_type": "code",
   "execution_count": null,
   "metadata": {
    "id": "I593-tVM82lk"
   },
   "outputs": [],
   "source": [
    "def is_float(x):\n",
    "  try:\n",
    "    float(x)\n",
    "  except:\n",
    "    return False\n",
    "  return True\n"
   ]
  },
  {
   "cell_type": "code",
   "execution_count": null,
   "metadata": {
    "colab": {
     "base_uri": "https://localhost:8080/",
     "height": 424
    },
    "id": "BXXbwqh5H4Sr",
    "outputId": "aa9b4e0f-1a4c-4bb7-b99d-54333d133551"
   },
   "outputs": [],
   "source": [
    "hse3[~hse3['total_sqft'].apply(is_float)] #returns values that are not float"
   ]
  },
  {
   "cell_type": "code",
   "execution_count": null,
   "metadata": {
    "id": "WxtPRi3U5bk-"
   },
   "outputs": [],
   "source": [
    "#We will take the average of the range given to us in the total_sqtf column to get a single value\n",
    "def convert_sqft_to_num(x):\n",
    "  tokens = x.split('-')\n",
    "  if len(tokens) == 2:\n",
    "    return(float(tokens[0]) + float(tokens[1]))/2\n",
    "  try:\n",
    "      return float(x)\n",
    "  except:\n",
    "     return None\n"
   ]
  },
  {
   "cell_type": "code",
   "execution_count": null,
   "metadata": {
    "colab": {
     "base_uri": "https://localhost:8080/",
     "height": 206
    },
    "id": "KZFL85Tb7oUm",
    "outputId": "4399ab17-0bd5-41d1-bb8d-48257c004b08"
   },
   "outputs": [],
   "source": [
    "hse4 = hse3.copy()\n",
    "hse4['total_sqft'] = hse4['total_sqft'].apply(convert_sqft_to_num)\n",
    "hse4.head()"
   ]
  },
  {
   "cell_type": "code",
   "execution_count": null,
   "metadata": {
    "colab": {
     "base_uri": "https://localhost:8080/"
    },
    "id": "kQwfHR_Y9BSe",
    "outputId": "48ddaf06-2170-4ccc-e54f-ef7d9b05374c"
   },
   "outputs": [],
   "source": [
    "hse4.loc[122]"
   ]
  },
  {
   "cell_type": "code",
   "execution_count": null,
   "metadata": {
    "colab": {
     "base_uri": "https://localhost:8080/"
    },
    "id": "6LQObhHW-3oB",
    "outputId": "b6b521f9-897a-4dd8-db47-5172446f1c50"
   },
   "outputs": [],
   "source": [
    "(3067+8156)/2 #average of location 122"
   ]
  },
  {
   "cell_type": "code",
   "execution_count": null,
   "metadata": {
    "id": "rmng9Hwj_c-9"
   },
   "outputs": [],
   "source": [
    "hse5 = hse4.copy()"
   ]
  },
  {
   "cell_type": "code",
   "execution_count": null,
   "metadata": {
    "colab": {
     "base_uri": "https://localhost:8080/",
     "height": 206
    },
    "id": "N9m_6uQVCgew",
    "outputId": "aa354a1a-3dbb-4a3b-a8e7-b1ae3e548161"
   },
   "outputs": [],
   "source": [
    "#Let's get into the feature engineering by finding the price per square_feet\n",
    "hse5['price_per_sqft'] = hse5['price'] * 100000/hse5['total_sqft'] #price is in lukh rupee and that's why we multiply by 100000\n",
    "hse5.head()"
   ]
  },
  {
   "cell_type": "code",
   "execution_count": null,
   "metadata": {
    "colab": {
     "base_uri": "https://localhost:8080/"
    },
    "id": "1IeaTvdbEMMD",
    "outputId": "c7f0e9f8-97f8-41f3-a132-11aa643e1944"
   },
   "outputs": [],
   "source": [
    "hse5['location'].unique()"
   ]
  },
  {
   "cell_type": "code",
   "execution_count": null,
   "metadata": {
    "colab": {
     "base_uri": "https://localhost:8080/"
    },
    "id": "WrBDvkSfG0ko",
    "outputId": "82eb67f2-a3e6-45bd-ea22-94d0ee1b9c93"
   },
   "outputs": [],
   "source": [
    "hse5.count()"
   ]
  },
  {
   "cell_type": "code",
   "execution_count": null,
   "metadata": {
    "colab": {
     "base_uri": "https://localhost:8080/"
    },
    "id": "_1uxhXxsFY08",
    "outputId": "b4f64aa5-131a-4ac3-c738-5168e18cce8c"
   },
   "outputs": [],
   "source": [
    "len(hse5['location'].unique()) #This are the locations we are dealing with."
   ]
  },
  {
   "cell_type": "code",
   "execution_count": null,
   "metadata": {
    "colab": {
     "base_uri": "https://localhost:8080/"
    },
    "id": "Gp40xHVAHTJw",
    "outputId": "b2cb9d42-77fa-4da6-dc56-77dcf4e310c6"
   },
   "outputs": [],
   "source": [
    "hse5['location'] = hse5['location'].apply(lambda x: x.strip()) # this function strips any extra space in location\n",
    "# The following variable will give us statistics on the location and sorts the locations by  descending order\n",
    "location_stats = hse5.groupby('location')['location'].agg('count').sort_values(ascending = False)\n",
    "location_stats"
   ]
  },
  {
   "cell_type": "code",
   "execution_count": null,
   "metadata": {
    "colab": {
     "base_uri": "https://localhost:8080/"
    },
    "id": "WycGjZYfIU7v",
    "outputId": "d16ae655-3267-4f44-a961-24c17c37bc9e"
   },
   "outputs": [],
   "source": [
    "len(location_stats[location_stats <=10]) #location with less or  equal than 10 houses"
   ]
  },
  {
   "cell_type": "code",
   "execution_count": 6,
   "metadata": {
    "colab": {
     "base_uri": "https://localhost:8080/"
    },
    "id": "1BI2xRfHItqi",
    "outputId": "d1651646-ae30-4c63-fc0d-e7c86bc6a133"
   },
   "outputs": [
    {
     "ename": "NameError",
     "evalue": "name 'location_stats' is not defined",
     "output_type": "error",
     "traceback": [
      "\u001b[0;31m---------------------------------------------------------------------------\u001b[0m",
      "\u001b[0;31mNameError\u001b[0m                                 Traceback (most recent call last)",
      "Cell \u001b[0;32mIn[6], line 1\u001b[0m\n\u001b[0;32m----> 1\u001b[0m location_stats_less_10 \u001b[38;5;241m=\u001b[39m\u001b[43mlocation_stats\u001b[49m[location_stats\u001b[38;5;241m<\u001b[39m\u001b[38;5;241m=\u001b[39m\u001b[38;5;241m10\u001b[39m]\n\u001b[1;32m      2\u001b[0m location_stats_less_10\n",
      "\u001b[0;31mNameError\u001b[0m: name 'location_stats' is not defined"
     ]
    }
   ],
   "source": [
    "location_stats_less_10 =location_stats[location_stats<=10]\n",
    "location_stats_less_10"
   ]
  },
  {
   "cell_type": "code",
   "execution_count": null,
   "metadata": {
    "colab": {
     "base_uri": "https://localhost:8080/"
    },
    "id": "zqggsitANv7h",
    "outputId": "725cc4c5-0456-4764-bc76-b6bfe947105c"
   },
   "outputs": [],
   "source": [
    "len(hse5['location'] .unique())"
   ]
  },
  {
   "cell_type": "code",
   "execution_count": null,
   "metadata": {
    "colab": {
     "base_uri": "https://localhost:8080/"
    },
    "id": "wR3MZUPLLx0O",
    "outputId": "c0e03280-9b24-4770-d7db-f357f87ce676"
   },
   "outputs": [],
   "source": [
    "#let's sort out the locations with less than 10 houses\n",
    "hse5['location'] = hse5['location'].apply(lambda x: 'other' if x in location_stats_less_10 else x)\n",
    "len(hse5['location'] .unique())"
   ]
  },
  {
   "cell_type": "code",
   "execution_count": null,
   "metadata": {
    "colab": {
     "base_uri": "https://localhost:8080/",
     "height": 206
    },
    "id": "B4X5w3CiKYUR",
    "outputId": "cbcf5244-0ccf-4830-b676-a3bf26984f16"
   },
   "outputs": [],
   "source": [
    "hse5.head()"
   ]
  },
  {
   "cell_type": "code",
   "execution_count": null,
   "metadata": {
    "colab": {
     "base_uri": "https://localhost:8080/",
     "height": 206
    },
    "id": "PVVbxNMUK1Rz",
    "outputId": "efa5c414-a8ba-4018-b20e-24f0119a6707"
   },
   "outputs": [],
   "source": [
    "hse5[hse5.total_sqft/hse5.BHK<300].head() #checking  the properties where the threshhold of 300 per unit square is not met"
   ]
  },
  {
   "cell_type": "code",
   "execution_count": null,
   "metadata": {
    "colab": {
     "base_uri": "https://localhost:8080/"
    },
    "id": "f52uT0J9O8pu",
    "outputId": "10ca8acd-f3fd-49a6-be50-091ce850331c"
   },
   "outputs": [],
   "source": [
    "#Removing outliers(data that falls way outside the typical data)\n",
    "hse5.shape"
   ]
  },
  {
   "cell_type": "code",
   "execution_count": null,
   "metadata": {
    "colab": {
     "base_uri": "https://localhost:8080/",
     "height": 424
    },
    "id": "7tVETMI9P2FK",
    "outputId": "801c3690-a614-4093-bd6d-6241489378f7"
   },
   "outputs": [],
   "source": [
    "hse6 = hse5[~(hse5.total_sqft/hse5.BHK<300)]\n",
    "hse6"
   ]
  },
  {
   "cell_type": "code",
   "execution_count": null,
   "metadata": {
    "colab": {
     "base_uri": "https://localhost:8080/"
    },
    "id": "B56XjZOIRbcQ",
    "outputId": "ac47c5c4-98e9-43d3-9ba8-33ca0d7200ce"
   },
   "outputs": [],
   "source": [
    "hse6.shape"
   ]
  },
  {
   "cell_type": "code",
   "execution_count": null,
   "metadata": {
    "colab": {
     "base_uri": "https://localhost:8080/"
    },
    "id": "OY-dNidSnlcN",
    "outputId": "15870cda-31d4-4bca-d27e-b828df18c8a8"
   },
   "outputs": [],
   "source": [
    "hse6['price_per_sqft'].describe()"
   ]
  },
  {
   "cell_type": "code",
   "execution_count": null,
   "metadata": {
    "colab": {
     "base_uri": "https://localhost:8080/"
    },
    "id": "rpHMrx0foF-d",
    "outputId": "59192857-7324-43e7-e237-db3664350ef2"
   },
   "outputs": [],
   "source": [
    "def remove_outliers(hse):\n",
    "  hse_out = pd.DataFrame()\n",
    "  for key,subhse in hse.groupby('location'):\n",
    "    m = np.mean(subhse.price_per_sqft)\n",
    "    st = np.std(subhse.price_per_sqft)\n",
    "    reduced_hse = subhse[(subhse.price_per_sqft> m-st) & (subhse.price_per_sqft<=(m+st))]\n",
    "    hse_out = pd.concat([hse_out, reduced_hse], ignore_index=True)\n",
    "\n",
    "  return (hse_out)\n",
    "\n",
    "hse7 = remove_outliers(hse6)\n",
    "hse7.shape\n",
    "#removing outliers(data that fall far out of range)"
   ]
  },
  {
   "cell_type": "code",
   "execution_count": null,
   "metadata": {
    "colab": {
     "base_uri": "https://localhost:8080/",
     "height": 206
    },
    "id": "t6RPHDG5eKWa",
    "outputId": "fca84468-dbbd-4903-f89c-316bbf797a1d"
   },
   "outputs": [],
   "source": [
    "hse7.head()"
   ]
  },
  {
   "cell_type": "code",
   "execution_count": null,
   "metadata": {
    "colab": {
     "base_uri": "https://localhost:8080/",
     "height": 206
    },
    "id": "fLGfISaVShot",
    "outputId": "4912e42c-5aab-4811-c01c-6e14141ed9b4"
   },
   "outputs": [],
   "source": [
    "hse.head()"
   ]
  },
  {
   "cell_type": "code",
   "execution_count": null,
   "metadata": {
    "colab": {
     "base_uri": "https://localhost:8080/",
     "height": 872
    },
    "id": "q60desQfmVEp",
    "outputId": "8e97c2a0-f73d-4803-8b36-7f16d5e44ff5"
   },
   "outputs": [],
   "source": [
    "#let's create a  function that will help us in visualization\n",
    "def plot_scatter_chat(hse,location):\n",
    "  BHK2 = hse[(hse['location']==location) & (hse['BHK'] == 2)]\n",
    "  BHK3 = hse[(hse['location']==location) & (hse['BHK'] == 3)]\n",
    "  plt.figure(figsize=(15, 10))\n",
    "  plt.scatter(BHK2.total_sqft, BHK2.price_per_sqft, color='blue',label='2 BHK', s=50)\n",
    "  plt.scatter(BHK3.total_sqft, BHK3.price_per_sqft, marker='+', color='green',label='3 BHK', s=50)\n",
    "  plt.xlabel(\"Total square feet\")\n",
    "  plt.ylabel(\"Price per square feet\")\n",
    "  plt.title(location)\n",
    "  plt.legend()\n",
    "\n",
    "\n",
    "plot_scatter_chat(hse7,'Assalam ALeikum')\n"
   ]
  },
  {
   "cell_type": "code",
   "execution_count": null,
   "metadata": {
    "colab": {
     "base_uri": "https://localhost:8080/"
    },
    "id": "ZBN0INObZZwW",
    "outputId": "4a8a4a6e-fad8-4b4f-92ec-b55020c6ab90"
   },
   "outputs": [],
   "source": [
    "def remove_outliers(hse):\n",
    "   exclude_indices = np.array([])\n",
    "   for location, location_hse in hse.groupby('location'):\n",
    "       BHK_stats = {}\n",
    "       for BHK, BHK_hse in location_hse.groupby('BHK'):\n",
    "        BHK_stats[BHK] = {\n",
    "            \"mean\": np.mean(BHK_hse.price_per_sqft),\n",
    "            \"std\" : np.std(BHK_hse.price_per_sqft),\n",
    "            'count': BHK_hse.shape[0],\n",
    "        }\n",
    "\n",
    "        for BHK, BHK_hse in location_hse.groupby('BHK'):\n",
    "            stats = BHK_stats.get(BHK-1)\n",
    "            if stats and stats['count']>5:\n",
    "               exclude_indices = np.append(exclude_indices, BHK_hse[BHK_hse.price_per_sqft < (stats['mean'])].index.values)\n",
    "\n",
    "   return hse.drop(exclude_indices,axis='index')\n",
    "\n",
    "\n",
    "hse8 = remove_outliers(hse7)\n",
    "hse8.shape\n",
    "\n"
   ]
  },
  {
   "cell_type": "code",
   "execution_count": null,
   "metadata": {
    "colab": {
     "base_uri": "https://localhost:8080/",
     "height": 872
    },
    "id": "8p2HfYRsbowb",
    "outputId": "ae7326e2-80bf-41b7-cc20-115e28bc3ed9",
    "scrolled": true
   },
   "outputs": [],
   "source": [
    "plot_scatter_chat(hse8['BHK'],'Assalam ALeikum')"
   ]
  },
  {
   "cell_type": "code",
   "execution_count": null,
   "metadata": {
    "colab": {
     "base_uri": "https://localhost:8080/",
     "height": 206
    },
    "id": "b_kJYK_cf4Pe",
    "outputId": "742f9cac-90e9-478f-fafd-f2d6334f61f1"
   },
   "outputs": [],
   "source": [
    "hse8[hse8.bath>10]"
   ]
  },
  {
   "cell_type": "code",
   "execution_count": null,
   "metadata": {
    "colab": {
     "base_uri": "https://localhost:8080/",
     "height": 473
    },
    "id": "T5PiFerMg7pt",
    "outputId": "c522e610-6ad7-4e31-f286-72c39cfdfdfe"
   },
   "outputs": [],
   "source": [
    "plt.hist(hse8['bath'], rwidth=0.8)\n",
    "plt.xlabel(\"Number of Bathrooms\")\n",
    "plt.ylabel(\"Count\")"
   ]
  },
  {
   "cell_type": "code",
   "execution_count": null,
   "metadata": {
    "colab": {
     "base_uri": "https://localhost:8080/"
    },
    "id": "n78QCR86cifJ",
    "outputId": "f9e3a296-be64-4d32-c516-2616844ff9e9"
   },
   "outputs": [],
   "source": [
    "hse8.bath.unique()"
   ]
  },
  {
   "cell_type": "code",
   "execution_count": null,
   "metadata": {
    "colab": {
     "base_uri": "https://localhost:8080/",
     "height": 175
    },
    "id": "LPm5NWTkc9sg",
    "outputId": "d13d431b-eafc-420b-f551-3fd55e51b775"
   },
   "outputs": [],
   "source": [
    "hse8[hse8.bath > hse8.BHK+2]\n"
   ]
  },
  {
   "cell_type": "code",
   "execution_count": null,
   "metadata": {
    "colab": {
     "base_uri": "https://localhost:8080/"
    },
    "id": "2-D-9F7SinP2",
    "outputId": "b35eceef-620a-479f-e8a3-a67311f80dfd"
   },
   "outputs": [],
   "source": [
    "hse9 = hse8[hse8.bath < hse8.BHK+2]\n",
    "hse9.shape\n",
    "#Our data is now clean!!"
   ]
  },
  {
   "cell_type": "code",
   "execution_count": null,
   "metadata": {
    "colab": {
     "base_uri": "https://localhost:8080/",
     "height": 424
    },
    "id": "VtPi2pVji6Af",
    "outputId": "e09585e0-9a5a-495c-9331-3c4085102f38"
   },
   "outputs": [],
   "source": [
    "#Let's drop some unnecessarry features for the model building\n",
    "hse10 = hse9.drop(['price_per_sqft',\"size\"], axis=\"columns\")\n",
    "hse10"
   ]
  },
  {
   "cell_type": "code",
   "execution_count": null,
   "metadata": {
    "colab": {
     "base_uri": "https://localhost:8080/",
     "height": 496
    },
    "id": "sTG4NvA4jtP1",
    "outputId": "485c7c2b-ee20-4ff7-eacc-7ec7f5f07cd9"
   },
   "outputs": [],
   "source": [
    "#Converts categorical variables (columns containing non-numerical data like text labels) into one-hot encoded dummy variables.\n",
    "dummies = pd.get_dummies(hse10['location'])\n",
    "dummies"
   ]
  },
  {
   "cell_type": "code",
   "execution_count": null,
   "metadata": {
    "colab": {
     "base_uri": "https://localhost:8080/",
     "height": 583
    },
    "id": "du1_lUSmlOvv",
    "outputId": "dc0f96eb-98d2-41ca-9024-300f3c416fe1"
   },
   "outputs": [],
   "source": [
    "#Let's create a new dataframe with dummies inside, We drop one column to avoid hot dummy trap and use 0s in other columns to represent it\n",
    "hse11 = pd.concat([hse10, dummies.drop('other', axis='columns')] ,axis=\"columns\")\n",
    "hse11"
   ]
  },
  {
   "cell_type": "code",
   "execution_count": null,
   "metadata": {
    "colab": {
     "base_uri": "https://localhost:8080/",
     "height": 496
    },
    "id": "jRwKEd4zniKL",
    "outputId": "759c2972-3df4-431d-a5d5-d05e06efb7d0"
   },
   "outputs": [],
   "source": [
    "hse12 = hse11.drop('location', axis ='columns') #we drop location since it's dummy encoded\n",
    "hse12"
   ]
  },
  {
   "cell_type": "code",
   "execution_count": null,
   "metadata": {
    "colab": {
     "base_uri": "https://localhost:8080/"
    },
    "id": "98oXhAesoH3l",
    "outputId": "ebf7ef31-36d0-4efd-ccbc-659b1d209dc0"
   },
   "outputs": [],
   "source": [
    "hse12.shape"
   ]
  },
  {
   "cell_type": "code",
   "execution_count": null,
   "metadata": {
    "colab": {
     "base_uri": "https://localhost:8080/",
     "height": 496
    },
    "id": "W3LvkxZJoTWL",
    "outputId": "8f7337de-8fe6-4a58-d0ef-de8a5f559305"
   },
   "outputs": [],
   "source": [
    "#let's group the independent variables\n",
    "x = hse12.drop('price', axis='columns')\n",
    "x"
   ]
  },
  {
   "cell_type": "code",
   "execution_count": null,
   "metadata": {
    "colab": {
     "base_uri": "https://localhost:8080/"
    },
    "id": "efEP2rkuoxoK",
    "outputId": "043ab7c7-530f-4e25-de15-20917746c971"
   },
   "outputs": [],
   "source": [
    "y = hse12['price']\n",
    "y"
   ]
  },
  {
   "cell_type": "code",
   "execution_count": null,
   "metadata": {
    "id": "9pVGnBPSpfzA"
   },
   "outputs": [],
   "source": [
    "from sklearn.model_selection import train_test_split\n",
    "x_train, x_test, y_train, y_test = train_test_split(x,y, test_size=0.2,random_state=10)"
   ]
  },
  {
   "cell_type": "code",
   "execution_count": null,
   "metadata": {
    "colab": {
     "base_uri": "https://localhost:8080/"
    },
    "id": "yZpKXVJdqqMi",
    "outputId": "144eb262-df1f-4158-bb1a-40d63736024e"
   },
   "outputs": [],
   "source": [
    "from sklearn.linear_model import LinearRegression\n",
    "lr_crf = LinearRegression()\n",
    "lr_crf.fit(x_train, y_train) #trains the model\n",
    "lr_crf.score(x_test, y_test) #Gives us the performance score of our model\n"
   ]
  },
  {
   "cell_type": "code",
   "execution_count": null,
   "metadata": {
    "colab": {
     "base_uri": "https://localhost:8080/"
    },
    "id": "7LzisQuYsGxT",
    "outputId": "0b390113-4460-48c7-cdc8-9d768a911907"
   },
   "outputs": [],
   "source": [
    "#we apply k-fold cross-validation(Revisit tutorial)\n",
    "!pip install scikit-learn\n",
    "\n",
    "from sklearn.model_selection import ShuffleSplit\n",
    "from sklearn.model_selection import cross_val_score\n",
    "\n",
    "cv = ShuffleSplit(n_splits=5, test_size = 0.2, random_state=0) #shufflesplit will randomize our samples so as to have equal distributions\n",
    "\n",
    "cross_val_score(LinearRegression(), x,y, cv=cv)"
   ]
  },
  {
   "cell_type": "code",
   "execution_count": null,
   "metadata": {
    "colab": {
     "base_uri": "https://localhost:8080/",
     "height": 572
    },
    "id": "nqj3AQuDvbdN",
    "outputId": "9fa888f9-4628-443e-c219-03a929bbd0be"
   },
   "outputs": [],
   "source": [
    "#Let's use Grid search cv to find the best possible algorithm to use\n",
    "from sklearn.model_selection import GridSearchCV\n",
    "\n",
    "from sklearn.linear_model import Lasso\n",
    "from sklearn.tree import DecisionTreeRegressor\n",
    "\n",
    "#function to find best model using gridsearchcv, params represent the parameters\n",
    "def find_best_model(x,y):\n",
    "    algos ={\n",
    "        'linear_regression': {\n",
    "            'model': LinearRegression(),\n",
    "            'params': {\n",
    "              #'normalize': [True,False]\n",
    "            }\n",
    "        },\n",
    "        'lasso': {\n",
    "            'model': Lasso(),\n",
    "            'params': {\n",
    "                'alpha':[1,2],\n",
    "                'selection':['random', 'cyclic']\n",
    "            }\n",
    "        },\n",
    "        'decision_tree': {\n",
    "            'model': DecisionTreeRegressor(),\n",
    "            'params':{\n",
    "                'criterion': ['mse','friedman_mse'],\n",
    "                'splitter' : ['best','random']\n",
    "            }\n",
    "        }\n",
    "    }\n",
    "    scores =[]\n",
    "    cv = ShuffleSplit(n_splits=5, test_size = 0.2, random_state=0)\n",
    "    for algo_name ,config in algos.items():\n",
    "      gs = GridSearchCV(config['model'], config['params'], cv=cv, return_train_score = False)\n",
    "      gs.fit(x,y)\n",
    "      scores.append({\n",
    "          'model': algo_name,\n",
    "          'best_score':gs.best_score_,\n",
    "          'best_params': gs.best_params_,\n",
    "      })\n",
    "\n",
    "    return pd.DataFrame(scores,columns=['model','best_score','best_params'])\n",
    "\n",
    "find_best_model(x,y)\n",
    "#linear_regression is the best with 81% after results"
   ]
  },
  {
   "cell_type": "code",
   "execution_count": null,
   "metadata": {
    "id": "eavPs25d8xRG"
   },
   "outputs": [],
   "source": [
    "#Let's make  the predictions for testing\n",
    "def predict_price(location,sqft,bath,bhk):\n",
    "    loc_index = np.where(x.columns == location)[0][0]\n",
    "\n",
    "    xp= np.zeros(len(x.columns))\n",
    "    xp[0]= sqft\n",
    "    xp[1]= bath\n",
    "    xp[2]=bhk\n",
    "    if loc_index >= 0:\n",
    "       xp[loc_index] = 1\n",
    "\n",
    "    return lr_crf.predict([xp])[0]\n"
   ]
  },
  {
   "cell_type": "code",
   "execution_count": null,
   "metadata": {
    "colab": {
     "base_uri": "https://localhost:8080/"
    },
    "id": "wLTAaKLq-Dav",
    "outputId": "23aa3e5c-92cb-4cdc-f582-17a675bcd43e"
   },
   "outputs": [],
   "source": [
    "x.columns"
   ]
  },
  {
   "cell_type": "code",
   "execution_count": null,
   "metadata": {
    "colab": {
     "base_uri": "https://localhost:8080/"
    },
    "id": "FhjA3soC97yf",
    "outputId": "fede67ee-f8f4-46af-e340-adcbbb5624d6"
   },
   "outputs": [],
   "source": [
    "#Let's make price prediction for  1st phase JP Nagnar as our test with 3bathrooms  and 2 bedrooms\n",
    "predict_price('1st Phase JP Nagar',1000,3,2)\n"
   ]
  },
  {
   "cell_type": "code",
   "execution_count": null,
   "metadata": {
    "colab": {
     "base_uri": "https://localhost:8080/"
    },
    "id": "54iW8wVDEAoi",
    "outputId": "5047792c-fec2-4971-ca71-c2abebaa003f"
   },
   "outputs": [],
   "source": [
    "predict_price('1st Phase JP Nagar',1000,2,3) #with 3 bathrooms and 3 bedrooms"
   ]
  },
  {
   "cell_type": "code",
   "execution_count": null,
   "metadata": {
    "colab": {
     "base_uri": "https://localhost:8080/"
    },
    "id": "_hF2HhQbEdb0",
    "outputId": "36dc063e-af67-41a5-9962-683efc5975b5"
   },
   "outputs": [],
   "source": [
    "predict_price('2nd Phase Judicial Layout',1000,3,3) #with 3 bathrooms and 3 bedrooms in  2nd Phase  Judicial Layout"
   ]
  },
  {
   "cell_type": "code",
   "execution_count": null,
   "metadata": {
    "colab": {
     "base_uri": "https://localhost:8080/"
    },
    "id": "eZGlXPNYEoub",
    "outputId": "5c7783f4-edd4-492d-9d98-e4425f7e5065"
   },
   "outputs": [],
   "source": [
    "predict_price('Indira Nagar',1000,3,3) #with 3 bathroom and 3 bedrooms in Indira Nagar"
   ]
  },
  {
   "cell_type": "code",
   "execution_count": null,
   "metadata": {
    "colab": {
     "base_uri": "https://localhost:8080/"
    },
    "id": "bLYZhH-rFGvW",
    "outputId": "f44b3cc4-cbf2-4a53-acb1-7012f61585c8"
   },
   "outputs": [],
   "source": [
    "predict_price('Indira Nagar',1000,2,2) #with 2 bathrooms and 2 bedrooms in Indira Nagar"
   ]
  },
  {
   "cell_type": "code",
   "execution_count": null,
   "metadata": {
    "colab": {
     "base_uri": "https://localhost:8080/"
    },
    "id": "bNB3oE7hFcTW",
    "outputId": "b1babc47-5269-406d-832c-ab900f2fecd9"
   },
   "outputs": [],
   "source": [
    "predict_price('2nd Phase Judicial Layout',1000,2,3) #with 2 bathrooms and 3 bedrooms in  2nd Phase  Judicial Layout"
   ]
  },
  {
   "cell_type": "code",
   "execution_count": null,
   "metadata": {
    "id": "RqGmmOs4J_Wh"
   },
   "outputs": [],
   "source": [
    "import pickle\n",
    "with open('bengaluru_house_prices_model.pickle', 'wb') as f:\n",
    "    pickle.dump(lr_crf, f)"
   ]
  }
 ],
 "metadata": {
  "colab": {
   "provenance": []
  },
  "kernelspec": {
   "display_name": "Python 3 (ipykernel)",
   "language": "python",
   "name": "python3"
  },
  "language_info": {
   "codemirror_mode": {
    "name": "ipython",
    "version": 3
   },
   "file_extension": ".py",
   "mimetype": "text/x-python",
   "name": "python",
   "nbconvert_exporter": "python",
   "pygments_lexer": "ipython3",
   "version": "3.11.6"
  }
 },
 "nbformat": 4,
 "nbformat_minor": 1
}
